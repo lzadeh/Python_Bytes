{
 "cells": [
  {
   "cell_type": "markdown",
   "id": "4e33e4eb",
   "metadata": {},
   "source": [
    "### Example 1: Printing Characters of a String"
   ]
  },
  {
   "cell_type": "code",
   "execution_count": 1,
   "id": "e21bb2b9",
   "metadata": {},
   "outputs": [
    {
     "name": "stdout",
     "output_type": "stream",
     "text": [
      "H\n",
      "e\n",
      "l\n",
      "l\n",
      "o\n",
      ",\n",
      " \n",
      "W\n",
      "o\n",
      "r\n",
      "l\n",
      "d\n",
      "!\n"
     ]
    }
   ],
   "source": [
    "text = \"Hello, World!\"\n",
    "index = 0\n",
    "\n",
    "while index < len(text):\n",
    "    print(text[index])\n",
    "    index += 1"
   ]
  },
  {
   "cell_type": "markdown",
   "id": "f5ba6127",
   "metadata": {},
   "source": [
    "### Example 2: Printing Numbers from 1 to 5"
   ]
  },
  {
   "cell_type": "code",
   "execution_count": 2,
   "id": "3ad10de4",
   "metadata": {},
   "outputs": [
    {
     "name": "stdout",
     "output_type": "stream",
     "text": [
      "1\n",
      "2\n",
      "3\n",
      "4\n",
      "5\n"
     ]
    }
   ],
   "source": [
    "count = 1\n",
    "while count <= 5:\n",
    "    print(count)\n",
    "    count += 1"
   ]
  },
  {
   "cell_type": "markdown",
   "id": "2d9182f8",
   "metadata": {},
   "source": [
    "### Example 3: Iterating Through a List"
   ]
  },
  {
   "cell_type": "code",
   "execution_count": 3,
   "id": "3c4b1a8b",
   "metadata": {},
   "outputs": [
    {
     "name": "stdout",
     "output_type": "stream",
     "text": [
      "I like apple\n",
      "I like banana\n",
      "I like cherry\n"
     ]
    }
   ],
   "source": [
    "fruits = [\"apple\", \"banana\", \"cherry\"]\n",
    "\n",
    "i = 0\n",
    "\n",
    "while i < len(fruits):\n",
    "    print(\"I like\", fruits[i])\n",
    "    i += 1"
   ]
  },
  {
   "cell_type": "markdown",
   "id": "2397f9e8",
   "metadata": {},
   "source": [
    "### Example 4: Calculating Sum of Numbers in a List"
   ]
  },
  {
   "cell_type": "code",
   "execution_count": 4,
   "id": "a6d22931",
   "metadata": {},
   "outputs": [
    {
     "name": "stdout",
     "output_type": "stream",
     "text": [
      "number: 3, sum: 3\n",
      "number: 7, sum: 10\n",
      "number: 1, sum: 11\n",
      "number: 9, sum: 20\n",
      "number: 4, sum: 24\n",
      "Sum: 24\n"
     ]
    }
   ],
   "source": [
    "numbers = [3, 7, 1, 9, 4]\n",
    "sum = 0\n",
    "i = 0\n",
    "while i < len(numbers):\n",
    "    sum += numbers[i]\n",
    "    print(f\"number: {numbers[i]}, sum: {sum}\")\n",
    "    i += 1\n",
    "print(\"Sum:\", sum)"
   ]
  },
  {
   "cell_type": "markdown",
   "id": "31eb9d52",
   "metadata": {},
   "source": [
    "### Example 5: Infinite Loop with User Input"
   ]
  },
  {
   "cell_type": "code",
   "execution_count": 5,
   "id": "45260330",
   "metadata": {},
   "outputs": [
    {
     "name": "stdout",
     "output_type": "stream",
     "text": [
      "Enter 'quit' to exit: Hello\n",
      "You entered: Hello\n",
      "Enter 'quit' to exit: again\n",
      "You entered: again\n",
      "Enter 'quit' to exit: quit\n"
     ]
    }
   ],
   "source": [
    "while True:\n",
    "    user_input = input(\"Enter 'quit' to exit: \")\n",
    "    if user_input == 'quit':\n",
    "        break\n",
    "    print(\"You entered:\", user_input)"
   ]
  },
  {
   "cell_type": "markdown",
   "id": "d5bdd1db",
   "metadata": {},
   "source": [
    "### Example 10: Multiplication Table\n",
    "Write a program that takes a number as input and prints its multiplication table using a for loop. The table should go up to 10."
   ]
  },
  {
   "cell_type": "code",
   "execution_count": 8,
   "id": "9f89f150",
   "metadata": {},
   "outputs": [
    {
     "name": "stdout",
     "output_type": "stream",
     "text": [
      "1 x 1 = 1\t1 x 2 = 2\t1 x 3 = 3\t1 x 4 = 4\t1 x 5 = 5\t\n",
      "2 x 1 = 2\t2 x 2 = 4\t2 x 3 = 6\t2 x 4 = 8\t2 x 5 = 10\t\n",
      "3 x 1 = 3\t3 x 2 = 6\t3 x 3 = 9\t3 x 4 = 12\t3 x 5 = 15\t\n",
      "4 x 1 = 4\t4 x 2 = 8\t4 x 3 = 12\t4 x 4 = 16\t4 x 5 = 20\t\n",
      "5 x 1 = 5\t5 x 2 = 10\t5 x 3 = 15\t5 x 4 = 20\t5 x 5 = 25\t\n"
     ]
    }
   ],
   "source": [
    "row = 1\n",
    "while row <= 5:\n",
    "    column = 1\n",
    "    while column <= 5:\n",
    "        product = row * column\n",
    "        print(f\"{row} x {column} = {product}\", end=\"\\t\")\n",
    "        column += 1\n",
    "    print()  # Move to the next row\n",
    "    row += 1"
   ]
  },
  {
   "cell_type": "markdown",
   "id": "73c45db0",
   "metadata": {},
   "source": [
    "### Exercise 1: Countdown\n",
    "Write a program that counts down from 10 to 1 and then prints \" Bravo !\" using a while loop."
   ]
  },
  {
   "cell_type": "code",
   "execution_count": 10,
   "id": "a2a5507e",
   "metadata": {},
   "outputs": [
    {
     "name": "stdout",
     "output_type": "stream",
     "text": [
      "10\n",
      "9\n",
      "8\n",
      "7\n",
      "6\n",
      "5\n",
      "4\n",
      "3\n",
      "2\n",
      "1\n",
      "Bravo!\n"
     ]
    }
   ],
   "source": [
    "count = 10\n",
    "while count >= 1:\n",
    "    print(count)\n",
    "    count -= 1\n",
    "print(\"Bravo!\")"
   ]
  },
  {
   "cell_type": "markdown",
   "id": "f5b36559",
   "metadata": {},
   "source": [
    "### Exercise 2: Sum of Digits\n",
    "Write a program that takes a positive integer as input and calculates the sum of its digits using a while loop."
   ]
  },
  {
   "cell_type": "code",
   "execution_count": 12,
   "id": "92a8fda1",
   "metadata": {},
   "outputs": [
    {
     "name": "stdout",
     "output_type": "stream",
     "text": [
      "Enter a positive integer: 341\n",
      "The sum of the digits is 8\n"
     ]
    }
   ],
   "source": [
    "num = int(input(\"Enter a positive integer: \"))\n",
    "total = 0\n",
    "\n",
    "while num > 0:\n",
    "    digit = num % 10\n",
    "    total += digit\n",
    "    num //= 10\n",
    "\n",
    "print(f\"The sum of the digits is {total}\")"
   ]
  },
  {
   "cell_type": "markdown",
   "id": "9934f9c3",
   "metadata": {},
   "source": [
    "### Exercise 3: Factorial Calculation\n",
    "Write a program that calculates the factorial of a given number using a while loop."
   ]
  },
  {
   "cell_type": "code",
   "execution_count": 11,
   "id": "0b1f1981",
   "metadata": {},
   "outputs": [
    {
     "name": "stdout",
     "output_type": "stream",
     "text": [
      "Enter a positive integer: 4\n",
      "The factorial of 4 is 24\n"
     ]
    }
   ],
   "source": [
    "n = int(input(\"Enter a positive integer: \"))\n",
    "fact = 1\n",
    "i = 1\n",
    "\n",
    "while i <= n:\n",
    "    fact *= i\n",
    "    i += 1\n",
    "\n",
    "print(f\"The factorial of {n} is {fact}\")"
   ]
  },
  {
   "cell_type": "code",
   "execution_count": null,
   "id": "3efd906b",
   "metadata": {},
   "outputs": [],
   "source": []
  },
  {
   "cell_type": "code",
   "execution_count": null,
   "id": "e63051ff",
   "metadata": {},
   "outputs": [],
   "source": []
  }
 ],
 "metadata": {
  "kernelspec": {
   "display_name": "Python 3 (ipykernel)",
   "language": "python",
   "name": "python3"
  },
  "language_info": {
   "codemirror_mode": {
    "name": "ipython",
    "version": 3
   },
   "file_extension": ".py",
   "mimetype": "text/x-python",
   "name": "python",
   "nbconvert_exporter": "python",
   "pygments_lexer": "ipython3",
   "version": "3.9.12"
  }
 },
 "nbformat": 4,
 "nbformat_minor": 5
}
