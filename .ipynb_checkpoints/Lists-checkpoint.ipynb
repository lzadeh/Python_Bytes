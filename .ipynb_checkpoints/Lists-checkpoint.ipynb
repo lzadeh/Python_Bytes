{
 "cells": [
  {
   "cell_type": "markdown",
   "id": "3a3db06b",
   "metadata": {},
   "source": [
    "# List in Python\n",
    "Lists are one of the most versatile and widely used data structures in Python. They allow you to store and manage collections of data, whether it's a list of numbers, strings, or even other lists."
   ]
  },
  {
   "cell_type": "markdown",
   "id": "7bcf7a9a",
   "metadata": {},
   "source": [
    "### Creating a list:\n",
    "You can create a list by enclosing elements within square brackets [], separated by commas."
   ]
  },
  {
   "cell_type": "code",
   "execution_count": 1,
   "id": "803b4cad",
   "metadata": {},
   "outputs": [
    {
     "name": "stdout",
     "output_type": "stream",
     "text": [
      "[1, 2, 3, 4, 5]\n",
      "<class 'list'>\n"
     ]
    }
   ],
   "source": [
    "numbers = [1, 2, 3, 4, 5]\n",
    "print(numbers)\n",
    "print(type(numbers))"
   ]
  },
  {
   "cell_type": "markdown",
   "id": "4ab710e6",
   "metadata": {},
   "source": [
    "### Accessing Elements:\n",
    "In Python, lists are ordered collections, and each item in the list has an index associated with it. Indexing starts at 0 for the first item, 1 for the second item, and so on. You can access list items using these indexes."
   ]
  },
  {
   "cell_type": "code",
   "execution_count": 2,
   "id": "56b76a6c",
   "metadata": {},
   "outputs": [
    {
     "name": "stdout",
     "output_type": "stream",
     "text": [
      "apple\n",
      "banana\n"
     ]
    }
   ],
   "source": [
    "fruits = [\"apple\", \"banana\", \"cherry\"]\n",
    "\n",
    "# Accessing specific items by index\n",
    "first_fruit = fruits[0]    # \"apple\"\n",
    "second_fruit = fruits[1]   # \"banana\"\n",
    "print(first_fruit)\n",
    "print(second_fruit)"
   ]
  },
  {
   "cell_type": "markdown",
   "id": "5992c6a4",
   "metadata": {},
   "source": [
    "#### Using Ranges to Access Multiple List Items:\n",
    "\n",
    "You can also access a range of items within a list by specifying a slice. A slice is defined by two indices separated by a colon (:). It allows you to retrieve a subset of the list."
   ]
  },
  {
   "cell_type": "code",
   "execution_count": 3,
   "id": "45377032",
   "metadata": {},
   "outputs": [
    {
     "name": "stdout",
     "output_type": "stream",
     "text": [
      "[2, 3, 4]\n"
     ]
    }
   ],
   "source": [
    "numbers = [1, 2, 3, 4, 5]\n",
    "\n",
    "# Accessing a range of items\n",
    "subset = numbers[1:4]  # Returns [2, 3, 4]\n",
    "print(subset)"
   ]
  },
  {
   "cell_type": "markdown",
   "id": "3709e489",
   "metadata": {},
   "source": [
    "####  Negative Indexes for Reverse Access:\n",
    "\n",
    "Python also allows you to use negative indexes to access items from the end of the list. -1 refers to the last item, -2 refers to the second-to-last item, and so on."
   ]
  },
  {
   "cell_type": "code",
   "execution_count": 4,
   "id": "8fef2ca8",
   "metadata": {},
   "outputs": [
    {
     "name": "stdout",
     "output_type": "stream",
     "text": [
      "blue\n",
      "green\n"
     ]
    }
   ],
   "source": [
    "colors = [\"red\", \"green\", \"blue\"]\n",
    "\n",
    "# Accessing items using negative indexes\n",
    "last_color = colors[-1]     # \"blue\"\n",
    "second_last_color = colors[-2]  # \"green\"\n",
    "print(last_color)\n",
    "print(second_last_color)"
   ]
  },
  {
   "cell_type": "markdown",
   "id": "1f4b703e",
   "metadata": {},
   "source": [
    "#### Combining Range and Negative Indexes:\n",
    "\n",
    "You can even combine range and negative indexes for more complex slicing. For example, to access the last three items of a list."
   ]
  },
  {
   "cell_type": "code",
   "execution_count": 6,
   "id": "ac8dfd04",
   "metadata": {},
   "outputs": [
    {
     "name": "stdout",
     "output_type": "stream",
     "text": [
      "[3, 4, 5]\n",
      "[3, 4]\n"
     ]
    }
   ],
   "source": [
    "numbers = [1, 2, 3, 4, 5]\n",
    "\n",
    "# Accessing the last three items using negative index and a range\n",
    "last_three = numbers[-3:]  # Returns [3, 4, 5]\n",
    "sub_list= numbers[-3:-1]\n",
    "\n",
    "print(last_three)\n",
    "print(sub_list)"
   ]
  },
  {
   "cell_type": "markdown",
   "id": "153ebc22",
   "metadata": {},
   "source": [
    "### Adding Elements:\n",
    "\n",
    "<b>Append:</b> To add an element to the end of a list, use the append() method:"
   ]
  },
  {
   "cell_type": "code",
   "execution_count": 10,
   "id": "eb6d65ad",
   "metadata": {},
   "outputs": [
    {
     "name": "stdout",
     "output_type": "stream",
     "text": [
      "[1, 2, 3, 4, 5, 6]\n"
     ]
    }
   ],
   "source": [
    "numbers = [1, 2, 3, 4, 5]\n",
    "numbers.append(6)  # Adds 6 to the end of the list\n",
    "print(numbers)"
   ]
  },
  {
   "cell_type": "markdown",
   "id": "102edaf4",
   "metadata": {},
   "source": [
    "<b>Insert:</b> To insert an element at a specific position, use the insert() method:"
   ]
  },
  {
   "cell_type": "code",
   "execution_count": 11,
   "id": "6915a534",
   "metadata": {},
   "outputs": [
    {
     "name": "stdout",
     "output_type": "stream",
     "text": [
      "[1, 2, 7, 3, 4, 5, 6]\n"
     ]
    }
   ],
   "source": [
    "numbers.insert(2, 7)  # Inserts 7 at index 2, pushing the rest to the right\n",
    "print(numbers)"
   ]
  },
  {
   "cell_type": "markdown",
   "id": "2636fc0d",
   "metadata": {},
   "source": [
    "<b>Extend:</b> Alternatively, you can use the extend() method to add elements from one list to another:"
   ]
  },
  {
   "cell_type": "code",
   "execution_count": 12,
   "id": "6b350c4a",
   "metadata": {},
   "outputs": [
    {
     "name": "stdout",
     "output_type": "stream",
     "text": [
      "['apple', 'banana', 'cherry', 'date']\n"
     ]
    }
   ],
   "source": [
    "fruits1 = [\"apple\", \"banana\"]\n",
    "fruits2 = [\"cherry\", \"date\"]\n",
    "fruits1.extend(fruits2)  # Appends elements from fruits2 to fruits1\n",
    "print(fruits1)"
   ]
  },
  {
   "cell_type": "markdown",
   "id": "312079c1",
   "metadata": {},
   "source": [
    "<b>Concatenation:</b> You can merge two lists using the + operator:"
   ]
  },
  {
   "cell_type": "code",
   "execution_count": 13,
   "id": "b71e2263",
   "metadata": {},
   "outputs": [
    {
     "name": "stdout",
     "output_type": "stream",
     "text": [
      "['apple', 'banana', 'cherry', 'date']\n"
     ]
    }
   ],
   "source": [
    "fruits1 = [\"apple\", \"banana\"]\n",
    "fruits2 = [\"cherry\", \"date\"]\n",
    "merged_fruits = fruits1 + fruits2\n",
    "print(merged_fruits)"
   ]
  },
  {
   "cell_type": "markdown",
   "id": "fcde7cfd",
   "metadata": {},
   "source": [
    "### Removing Elements:\n",
    "\n",
    "<b>Remove:</b> To remove a specific element by value, use the remove() method:"
   ]
  },
  {
   "cell_type": "code",
   "execution_count": 14,
   "id": "9a13346b",
   "metadata": {},
   "outputs": [
    {
     "name": "stdout",
     "output_type": "stream",
     "text": [
      "[1, 2, 3, 5]\n"
     ]
    }
   ],
   "source": [
    "numbers = [1, 2, 3, 4, 5]\n",
    "numbers.remove(4)  # Removes the element with value 4\n",
    "print(numbers)"
   ]
  },
  {
   "cell_type": "markdown",
   "id": "fe41c291",
   "metadata": {},
   "source": [
    "If there are more than one item with the specified value, the remove() method removes the first occurance:"
   ]
  },
  {
   "cell_type": "code",
   "execution_count": 15,
   "id": "9b5c0378",
   "metadata": {},
   "outputs": [
    {
     "name": "stdout",
     "output_type": "stream",
     "text": [
      "[1, 2, 3, 5, 4, 6, 4]\n"
     ]
    }
   ],
   "source": [
    "numbers = [1, 2, 3, 4, 5, 4, 6, 4]\n",
    "numbers.remove(4)  # Removes the first element with value 4\n",
    "print(numbers)"
   ]
  },
  {
   "cell_type": "markdown",
   "id": "5020e844",
   "metadata": {},
   "source": [
    "<b>Pop:</b> To remove and return an element by index, use the pop() method:"
   ]
  },
  {
   "cell_type": "code",
   "execution_count": 16,
   "id": "db39781e",
   "metadata": {},
   "outputs": [
    {
     "name": "stdout",
     "output_type": "stream",
     "text": [
      "3\n",
      "[1, 2, 4, 5]\n"
     ]
    }
   ],
   "source": [
    "numbers = [1, 2, 3, 4, 5]\n",
    "popped_element = numbers.pop(2)  # Removes and returns the element at index 2\n",
    "print(popped_element)\n",
    "print(numbers)"
   ]
  },
  {
   "cell_type": "markdown",
   "id": "27e919d0",
   "metadata": {},
   "source": [
    "If you do not specify the index, the pop() method removes the last item."
   ]
  },
  {
   "cell_type": "code",
   "execution_count": 17,
   "id": "6d886408",
   "metadata": {},
   "outputs": [
    {
     "name": "stdout",
     "output_type": "stream",
     "text": [
      "5\n",
      "[1, 2, 3, 4]\n"
     ]
    }
   ],
   "source": [
    "numbers = [1, 2, 3, 4, 5]\n",
    "popped_element = numbers.pop()  # Removes and returns the element at index 2\n",
    "print(popped_element)\n",
    "print(numbers)"
   ]
  },
  {
   "cell_type": "markdown",
   "id": "15fd8eea",
   "metadata": {},
   "source": [
    "<b>Del:</b> The del keyword also removes the specified index in the list."
   ]
  },
  {
   "cell_type": "code",
   "execution_count": 18,
   "id": "8b3e08de",
   "metadata": {},
   "outputs": [
    {
     "name": "stdout",
     "output_type": "stream",
     "text": [
      "[1, 2, 4, 5]\n"
     ]
    }
   ],
   "source": [
    "numbers = [1, 2, 3, 4, 5]\n",
    "del numbers[2]  # Removes the element at index 2\n",
    "print(numbers)"
   ]
  },
  {
   "cell_type": "markdown",
   "id": "aa33158c",
   "metadata": {},
   "source": [
    "Or you can delete the entire list using <b>del</b> statment."
   ]
  },
  {
   "cell_type": "code",
   "execution_count": 20,
   "id": "60710d88",
   "metadata": {},
   "outputs": [
    {
     "name": "stdout",
     "output_type": "stream",
     "text": [
      "numbers is deleted completely.\n"
     ]
    }
   ],
   "source": [
    "numbers = [1, 2, 3, 4, 5]\n",
    "del numbers  # Deletes the entire list\n",
    "\n",
    "try:\n",
    "    if numbers is not None:\n",
    "        print(numbers)\n",
    "except NameError:\n",
    "    print(\"numbers is deleted completely.\")"
   ]
  },
  {
   "cell_type": "markdown",
   "id": "49780719",
   "metadata": {},
   "source": [
    "<b>Clear</b> Using the clear() method, you can empty the list. There is still a list, but it is empty."
   ]
  },
  {
   "cell_type": "code",
   "execution_count": 21,
   "id": "169feb03",
   "metadata": {},
   "outputs": [
    {
     "name": "stdout",
     "output_type": "stream",
     "text": [
      "[]\n"
     ]
    }
   ],
   "source": [
    "numbers = [1, 2, 3, 4, 5]\n",
    "numbers.clear()  # Removes all elements\n",
    "print(numbers)"
   ]
  },
  {
   "cell_type": "markdown",
   "id": "06d7dd64",
   "metadata": {},
   "source": [
    "### Counting Elements:\n",
    "To count the occurrences of a specific element in a list, use the count() method:"
   ]
  },
  {
   "cell_type": "code",
   "execution_count": 22,
   "id": "e3e21647",
   "metadata": {},
   "outputs": [
    {
     "name": "stdout",
     "output_type": "stream",
     "text": [
      "3\n"
     ]
    }
   ],
   "source": [
    "numbers = [1, 2, 3, 4, 5, 2, 8, 2, 6]\n",
    "count_of_twos = numbers.count(2)  # Counts the number of 2s in the list\n",
    "print(count_of_twos)"
   ]
  },
  {
   "cell_type": "markdown",
   "id": "5bb67a79",
   "metadata": {},
   "source": [
    "### Check if Item Exists\n",
    "To determine if a specified item is present in a list use the in keyword:"
   ]
  },
  {
   "cell_type": "code",
   "execution_count": 23,
   "id": "39793f9c",
   "metadata": {},
   "outputs": [
    {
     "name": "stdout",
     "output_type": "stream",
     "text": [
      "Yellow is not in the colors list.\n"
     ]
    }
   ],
   "source": [
    "colors = [\"red\", \"green\", \"blue\"]\n",
    "\n",
    "if \"yellow\" in colors:\n",
    "    print(\"Yellow is in the colors list.\")\n",
    "else:\n",
    "    print(\"Yellow is not in the colors list.\")"
   ]
  },
  {
   "cell_type": "markdown",
   "id": "13cdc2af",
   "metadata": {},
   "source": [
    "## Iterating through list items\n",
    "#### Using a for Loop:\n",
    "A for loop is the most common way to iterate through a list in Python. It allows you to access each item in the list one by one."
   ]
  },
  {
   "cell_type": "code",
   "execution_count": 24,
   "id": "f56ffb56",
   "metadata": {},
   "outputs": [
    {
     "name": "stdout",
     "output_type": "stream",
     "text": [
      "To-Do List:\n",
      "Buy groceries\n",
      "Finish homework\n",
      "Go to the gym\n",
      "Read a book\n"
     ]
    }
   ],
   "source": [
    "tasks = [\"Buy groceries\", \"Finish homework\", \"Go to the gym\", \"Read a book\"]\n",
    "print(\"To-Do List:\")\n",
    "for task in tasks:\n",
    "    print(task)"
   ]
  },
  {
   "cell_type": "markdown",
   "id": "5f010948",
   "metadata": {},
   "source": [
    "#### Using a while Loop:\n",
    "You can achieve the same result using a while loop and a counter variable to iterate through the list."
   ]
  },
  {
   "cell_type": "code",
   "execution_count": 25,
   "id": "c99c73ea",
   "metadata": {},
   "outputs": [
    {
     "name": "stdout",
     "output_type": "stream",
     "text": [
      "To-Do List:\n",
      "Buy groceries\n",
      "Finish homework\n",
      "Go to the gym\n",
      "Read a book\n"
     ]
    }
   ],
   "source": [
    "tasks = [\"Buy groceries\", \"Finish homework\", \"Go to the gym\", \"Read a book\"]\n",
    "print(\"To-Do List:\")\n",
    "index = 0\n",
    "while index < len(tasks):\n",
    "    print(tasks[index])\n",
    "    index += 1"
   ]
  },
  {
   "cell_type": "markdown",
   "id": "29c5c83c",
   "metadata": {},
   "source": [
    "####  Using range with a for Loop:\n",
    "You can use the range() function with a for loop to access list items by index."
   ]
  },
  {
   "cell_type": "code",
   "execution_count": 26,
   "id": "72f0d88a",
   "metadata": {},
   "outputs": [
    {
     "name": "stdout",
     "output_type": "stream",
     "text": [
      "To-Do List:\n",
      "Buy groceries\n",
      "Finish homework\n",
      "Go to the gym\n",
      "Read a book\n"
     ]
    }
   ],
   "source": [
    "tasks = [\"Buy groceries\", \"Finish homework\", \"Go to the gym\", \"Read a book\"]\n",
    "print(\"To-Do List:\")\n",
    "for index in range(len(tasks)):\n",
    "    print(tasks[index])"
   ]
  },
  {
   "cell_type": "markdown",
   "id": "b110c1e1",
   "metadata": {},
   "source": [
    "####  Using List Comprehension:\n",
    "List comprehension is a concise way to create a new list by applying an expression to each item in an existing list."
   ]
  },
  {
   "cell_type": "code",
   "execution_count": 27,
   "id": "2362c403",
   "metadata": {},
   "outputs": [
    {
     "name": "stdout",
     "output_type": "stream",
     "text": [
      "Uppercase To-Do List:\n",
      "BUY GROCERIES\n",
      "FINISH HOMEWORK\n",
      "GO TO THE GYM\n",
      "READ A BOOK\n"
     ]
    }
   ],
   "source": [
    "tasks = [\"Buy groceries\", \"Finish homework\", \"Go to the gym\", \"Read a book\"]\n",
    "uppercase_tasks = []\n",
    "\n",
    "for task in tasks:\n",
    "    uppercase_task = task.upper()\n",
    "    uppercase_tasks.append(uppercase_task)\n",
    "\n",
    "print(\"Uppercase To-Do List:\")\n",
    "for task in uppercase_tasks:\n",
    "    print(task)"
   ]
  },
  {
   "cell_type": "code",
   "execution_count": 28,
   "id": "8c63dda9",
   "metadata": {},
   "outputs": [
    {
     "name": "stdout",
     "output_type": "stream",
     "text": [
      "Uppercase To-Do List:\n",
      "BUY GROCERIES\n",
      "FINISH HOMEWORK\n",
      "GO TO THE GYM\n",
      "READ A BOOK\n"
     ]
    }
   ],
   "source": [
    "tasks = [\"Buy groceries\", \"Finish homework\", \"Go to the gym\", \"Read a book\"]\n",
    "uppercase_tasks = [task.upper() for task in tasks]\n",
    "print(\"Uppercase To-Do List:\")\n",
    "for task in uppercase_tasks:\n",
    "    print(task)"
   ]
  },
  {
   "cell_type": "code",
   "execution_count": 29,
   "id": "e4409344",
   "metadata": {},
   "outputs": [
    {
     "name": "stdout",
     "output_type": "stream",
     "text": [
      "[1, 4, 9, 16, 25]\n"
     ]
    }
   ],
   "source": [
    "# create a list of squares from a list of numbers\n",
    "numbers = [1, 2, 3, 4, 5]\n",
    "squares = [x**2 for x in numbers]\n",
    "print(squares)"
   ]
  },
  {
   "cell_type": "markdown",
   "id": "80367b1c",
   "metadata": {},
   "source": [
    "####  Using Enumerate:\n",
    "The enumerate() function allows you to iterate through both the index and the value of each item in the list simultaneously."
   ]
  },
  {
   "cell_type": "code",
   "execution_count": 30,
   "id": "b055b604",
   "metadata": {},
   "outputs": [
    {
     "name": "stdout",
     "output_type": "stream",
     "text": [
      "To-Do List:\n",
      "1. Buy groceries\n",
      "2. Finish homework\n",
      "3. Go to the gym\n",
      "4. Read a book\n"
     ]
    }
   ],
   "source": [
    "tasks = [\"Buy groceries\", \"Finish homework\", \"Go to the gym\", \"Read a book\"]\n",
    "print(\"To-Do List:\")\n",
    "for index, task in enumerate(tasks):\n",
    "    print(f\"{index + 1}. {task}\")"
   ]
  },
  {
   "cell_type": "markdown",
   "id": "78a34cfa",
   "metadata": {},
   "source": [
    "## Sorting list items\n",
    "Sorting a list in Python, whether ascendingly or descendingly, is a common operation that allows you to organize data in a meaningful way. Let's explore how to do this with a real-world example: sorting a list of students' grades."
   ]
  },
  {
   "cell_type": "code",
   "execution_count": 31,
   "id": "71bd3ad9",
   "metadata": {},
   "outputs": [
    {
     "name": "stdout",
     "output_type": "stream",
     "text": [
      "[76, 78, 85, 88, 89, 90, 92, 95]\n",
      "[76, 78, 85, 88, 89, 90, 92, 95]\n"
     ]
    }
   ],
   "source": [
    "grades = [85, 92, 78, 90, 88, 76, 95, 89]\n",
    "\n",
    "# To sort the grades in ascending order (from lowest to highest), \n",
    "# you can use the sorted() function or the list.sort() method.\n",
    "sorted_grades_asc = sorted(grades)\n",
    "print(sorted_grades_asc)\n",
    "\n",
    "grades.sort()\n",
    "print(grades)"
   ]
  },
  {
   "cell_type": "code",
   "execution_count": 32,
   "id": "3278dc94",
   "metadata": {},
   "outputs": [
    {
     "name": "stdout",
     "output_type": "stream",
     "text": [
      "[95, 92, 90, 89, 88, 85, 78, 76]\n",
      "[95, 92, 90, 89, 88, 85, 78, 76]\n"
     ]
    }
   ],
   "source": [
    "grades = [85, 92, 78, 90, 88, 76, 95, 89]\n",
    "\n",
    "# To sort the grades in descending order (from highest to lowest), \n",
    "# you can use the reverse parameter of the sorted() function or the list.sort() method. \n",
    "sorted_grades_desc = sorted(grades, reverse=True)\n",
    "print(sorted_grades_desc)\n",
    "\n",
    "grades.sort(reverse=True)\n",
    "print(grades)"
   ]
  },
  {
   "cell_type": "markdown",
   "id": "b3cad274",
   "metadata": {},
   "source": [
    "## Copying Lists:\n",
    "To create a copy of a list (shallow copy), you can use slicing or the list() constructor:"
   ]
  },
  {
   "cell_type": "code",
   "execution_count": 33,
   "id": "4252898d",
   "metadata": {},
   "outputs": [
    {
     "name": "stdout",
     "output_type": "stream",
     "text": [
      "[9, 2, 3]\n"
     ]
    }
   ],
   "source": [
    "original_list = [1, 2, 3]\n",
    "copy_list = original_list  # The assignment operator does not create a copy of the original list\n",
    "\n",
    "copy_list[0] = 9       # Change value of first element of copy_list\n",
    "\n",
    "print(original_list)"
   ]
  },
  {
   "cell_type": "code",
   "execution_count": 34,
   "id": "df29bcf9",
   "metadata": {},
   "outputs": [
    {
     "name": "stdout",
     "output_type": "stream",
     "text": [
      "Original list: [1, 2, 3]\n",
      "Shallow copy 1: [9, 2, 3]\n",
      "Original list: [1, 2, 3]\n",
      "Shallow copy 2: [9, 2, 3]\n"
     ]
    }
   ],
   "source": [
    "original_list = [1, 2, 3]\n",
    "shallow_copy1 = original_list[:]  # Using slicing\n",
    "shallow_copy1[0] = 9\n",
    "\n",
    "print(\"Original list:\", original_list)\n",
    "print(\"Shallow copy 1:\", shallow_copy1)\n",
    "\n",
    "shallow_copy2 = list(original_list)  # Using the list constructor\n",
    "shallow_copy2[0] = 9\n",
    "\n",
    "print(\"Original list:\", original_list)\n",
    "print(\"Shallow copy 2:\", shallow_copy2)"
   ]
  },
  {
   "cell_type": "markdown",
   "id": "49a8ab79",
   "metadata": {},
   "source": [
    "## Nested Lists\n",
    "\n",
    "Nested lists in Python are lists that contain other lists as their elements. They allow you to create more complex data structures, like tables or matrices, where each element of the outer list can be another list. This concept might sound a bit abstract, so let's illustrate it with a real-world example: a student roster for a school.\n",
    "\n",
    "<b>Example: Student Roster</b>\n",
    "\n",
    "Imagine you're managing a student roster for a school. Each student has several attributes: name, age, grade, and a list of courses they are enrolled in. You can represent this roster as a nested list."
   ]
  },
  {
   "cell_type": "code",
   "execution_count": 36,
   "id": "b7565e8b",
   "metadata": {},
   "outputs": [
    {
     "name": "stdout",
     "output_type": "stream",
     "text": [
      "[['Alice', 17, '11th Grade', ['Math', 'Science', 'History']], ['Bob', 16, '10th Grade', ['English', 'Math', 'Art']], ['Charlie', 18, '12th Grade', ['Physics', 'Chemistry', 'Biology']], ['David', 15, '9th Grade', ['Geography', 'Music', 'Math']]]\n"
     ]
    }
   ],
   "source": [
    "student_roster = [\n",
    "    [\"Alice\", 17, \"11th Grade\", [\"Math\", \"Science\", \"History\"]],\n",
    "    [\"Bob\", 16, \"10th Grade\", [\"English\", \"Math\", \"Art\"]],\n",
    "    [\"Charlie\", 18, \"12th Grade\", [\"Physics\", \"Chemistry\", \"Biology\"]],\n",
    "    [\"David\", 15, \"9th Grade\", [\"Geography\", \"Music\", \"Math\"]],\n",
    "]\n",
    "\n",
    "print(student_roster)"
   ]
  },
  {
   "cell_type": "markdown",
   "id": "47ac78ad",
   "metadata": {},
   "source": [
    "In this example:\n",
    "\n",
    "- The student_roster is a list containing four student records, where each record is represented as a list.\n",
    "- Each student record is itself a list containing the student's name (a string), age (an integer), grade (a string), and a list of courses they are enrolled in (a nested list).\n",
    "Now, let's see how you can access and manipulate this nested list:\n",
    "\n",
    "<b>Accessing Nested List Elements:</b>\n",
    "\n",
    "To access specific information about a student, you can use nested indexing. For example, to access Bob's age and the second course he's enrolled in:"
   ]
  },
  {
   "cell_type": "code",
   "execution_count": 37,
   "id": "0680e689",
   "metadata": {},
   "outputs": [
    {
     "name": "stdout",
     "output_type": "stream",
     "text": [
      "bob age is: 16\n",
      "bob second course is: Math\n"
     ]
    }
   ],
   "source": [
    "# Accessing Bob's age (16)\n",
    "bob_age = student_roster[1][1]\n",
    "print(\"bob age is:\",bob_age)\n",
    "\n",
    "# Accessing the second course Bob is enrolled in (\"Math\")\n",
    "bob_second_course = student_roster[1][3][1]\n",
    "print(\"bob second course is:\", bob_second_course)"
   ]
  },
  {
   "cell_type": "markdown",
   "id": "255e22b5",
   "metadata": {},
   "source": [
    "<b>Iterating Through Nested Lists:</b>\n",
    "\n",
    "You can use nested loops to iterate through the elements of a nested list. For instance, to print all the courses that each student is enrolled in:"
   ]
  },
  {
   "cell_type": "code",
   "execution_count": 38,
   "id": "d5b827bb",
   "metadata": {},
   "outputs": [
    {
     "name": "stdout",
     "output_type": "stream",
     "text": [
      "Alice's courses: Math, Science, History\n",
      "Bob's courses: English, Math, Art\n",
      "Charlie's courses: Physics, Chemistry, Biology\n",
      "David's courses: Geography, Music, Math\n"
     ]
    }
   ],
   "source": [
    "for student in student_roster:\n",
    "    courses = student[3]  # Get the list of courses for the current student\n",
    "    print(f\"{student[0]}'s courses: {', '.join(courses)}\")"
   ]
  },
  {
   "cell_type": "markdown",
   "id": "5aeda6c0",
   "metadata": {},
   "source": [
    "This code uses a loop to go through each student record, accesses the list of courses, and prints them out.\n",
    "\n",
    "<b>Adding or Modifying Data:</b>\n",
    "\n",
    "You can add or modify data in a nested list just like in a regular list. For instance, to add a new course for Alice:"
   ]
  },
  {
   "cell_type": "code",
   "execution_count": 39,
   "id": "dfc8d516",
   "metadata": {},
   "outputs": [
    {
     "name": "stdout",
     "output_type": "stream",
     "text": [
      "['Alice', 17, '11th Grade', ['Math', 'Science', 'History', 'Spanish']]\n"
     ]
    }
   ],
   "source": [
    "new_course = \"Spanish\"\n",
    "student_roster[0][3].append(new_course)\n",
    "print(student_roster[0])"
   ]
  },
  {
   "cell_type": "markdown",
   "id": "078e3992",
   "metadata": {},
   "source": [
    "This appends \"Spanish\" to Alice's list of courses.\n",
    "\n",
    "Nested lists are a powerful way to represent structured data in Python, and they're commonly used for tasks that involve tabular or hierarchical information. This real-world example of a student roster demonstrates how you can use nested lists to manage complex data structures effectively."
   ]
  },
  {
   "cell_type": "markdown",
   "id": "bf833939",
   "metadata": {},
   "source": [
    "## Exercise\n",
    "\n",
    "#### Exercise 1: Student Grades\n",
    "Create a nested list representing a classroom of students and their grades in different subjects. Calculate and print the average grade for each student."
   ]
  },
  {
   "cell_type": "code",
   "execution_count": 40,
   "id": "ff0b3792",
   "metadata": {},
   "outputs": [
    {
     "name": "stdout",
     "output_type": "stream",
     "text": [
      "Alice's average: 89.00\n",
      "Bob's average: 83.67\n",
      "Charlie's average: 91.67\n"
     ]
    }
   ],
   "source": [
    "classroom = [\n",
    "    [\"Alice\", [90, 85, 92]],\n",
    "    [\"Bob\", [78, 88, 85]],\n",
    "    [\"Charlie\", [95, 91, 89]],\n",
    "]\n",
    "\n",
    "# Calculate and print the average grade for each student\n",
    "# Alice's average: 89.0\n",
    "# Bob's average: 83.67\n",
    "# Charlie's average: 91.67\n",
    "\n",
    "# Calculate and print the average grade for each student\n",
    "for student in classroom:\n",
    "    name = student[0]\n",
    "    grades = student[1]\n",
    "    average = sum(grades) / len(grades)\n",
    "    print(f\"{name}'s average: {average:.2f}\")"
   ]
  },
  {
   "cell_type": "markdown",
   "id": "0b6c4855",
   "metadata": {},
   "source": [
    "#### Exercise 2: Inventory Management\n",
    "Imagine you have a store with different products and quantities. Create a nested list representing the store's inventory. Write code to update the quantity of a specific product, and another piece of code to add a new product to the inventory."
   ]
  },
  {
   "cell_type": "code",
   "execution_count": 41,
   "id": "48a56087",
   "metadata": {},
   "outputs": [
    {
     "name": "stdout",
     "output_type": "stream",
     "text": [
      "[['Apples', 120], ['Bananas', 75], ['Cherries', 50], ['Grapes', 60]]\n"
     ]
    }
   ],
   "source": [
    "inventory = [\n",
    "    [\"Apples\", 100],\n",
    "    [\"Bananas\", 75],\n",
    "    [\"Cherries\", 50],\n",
    "]\n",
    "\n",
    "# After updating \"Apples\" quantity to 120:\n",
    "# [[\"Apples\", 120], [\"Bananas\", 75], [\"Cherries\", 50]]\n",
    "\n",
    "# After adding \"Grapes\" with quantity 60:\n",
    "# [[\"Apples\", 120], [\"Bananas\", 75], [\"Cherries\", 50], [\"Grapes\", 60]]\n",
    "\n",
    "# update quantity of \"Apples\" to 120\n",
    "item_name = \"Apples\" \n",
    "new_quantity = 120\n",
    "for item in inventory:\n",
    "    if item[0] == item_name:\n",
    "        item[1] = new_quantity\n",
    "\n",
    "# add a new product\n",
    "item_name = \"Grapes\" \n",
    "quantity = 60\n",
    "inventory.append([item_name, quantity])\n",
    "\n",
    "print(inventory)"
   ]
  },
  {
   "cell_type": "markdown",
   "id": "420b596b",
   "metadata": {},
   "source": [
    "#### Exercise 3: To-Do List Organizer\n",
    "Create a program that manages to-do lists for multiple people. Each person has a name and a list of tasks. Allow users to add tasks for a specific person, remove tasks, and display each person's tasks."
   ]
  },
  {
   "cell_type": "code",
   "execution_count": 42,
   "id": "ab90d430",
   "metadata": {},
   "outputs": [
    {
     "name": "stdout",
     "output_type": "stream",
     "text": [
      "[['Alice', ['Clean the house']], ['Bob', ['Finish homework', 'Go to the gym', 'Walk the dog']]]\n"
     ]
    }
   ],
   "source": [
    "people = [\n",
    "    [\"Alice\", [\"Buy groceries\", \"Clean the house\"]],\n",
    "    [\"Bob\", [\"Finish homework\", \"Go to the gym\"]],\n",
    "]\n",
    "\n",
    "# After Alice completes \"Buy groceries\":\n",
    "# [[\"Alice\", [\"Clean the house\"]], [\"Bob\", [\"Finish homework\", \"Go to the gym\"]]]\n",
    "\n",
    "# Add a task \"Walk the dog\" for Bob:\n",
    "# [[\"Alice\", [\"Clean the house\"]], [\"Bob\", [\"Finish homework\", \"Go to the gym\", \"Walk the dog\"]]]\n",
    "\n",
    "\n",
    "# Complete a task for a person\n",
    "person_name = \"Alice\" \n",
    "task = \"Buy groceries\"\n",
    "for person in people:\n",
    "    if person[0] == person_name:\n",
    "        if task in person[1]:\n",
    "            person[1].remove(task)\n",
    "\n",
    "# Add a task for a person\n",
    "person_name = \"Bob\"\n",
    "task = \"Walk the dog\"\n",
    "for person in people:\n",
    "    if person[0] == person_name:\n",
    "        person[1].append(task)\n",
    "\n",
    "print(people)"
   ]
  },
  {
   "cell_type": "markdown",
   "id": "73827383",
   "metadata": {},
   "source": [
    "#### Exercise 4: Sales Report\n",
    "Create a sales report for a store with different products and daily sales data. Use a nested list to represent the store's sales. Write code that calculates and displays the total sales for each product."
   ]
  },
  {
   "cell_type": "code",
   "execution_count": 43,
   "id": "cf0caebb",
   "metadata": {},
   "outputs": [
    {
     "name": "stdout",
     "output_type": "stream",
     "text": [
      "Apples total sales: 185\n",
      "Bananas total sales: 165\n",
      "Cherries total sales: 135\n"
     ]
    }
   ],
   "source": [
    "sales_data = [\n",
    "    [\"Apples\", [50, 60, 75]],\n",
    "    [\"Bananas\", [40, 55, 70]],\n",
    "    [\"Cherries\", [30, 45, 60]],\n",
    "]\n",
    "\n",
    "# Calculate and display the total sales for each product\n",
    "# Apples total sales: 185\n",
    "# Bananas total sales: 165\n",
    "# Cherries total sales: 135\n",
    "\n",
    "# Calculate and display the total sales for each product\n",
    "for product in sales_data:\n",
    "    product_name = product[0]\n",
    "    daily_sales = product[1]\n",
    "    total_sales = sum(daily_sales)\n",
    "    print(f\"{product_name} total sales: {total_sales}\")"
   ]
  },
  {
   "cell_type": "code",
   "execution_count": null,
   "id": "83e84e0c",
   "metadata": {},
   "outputs": [],
   "source": []
  }
 ],
 "metadata": {
  "kernelspec": {
   "display_name": "Python 3 (ipykernel)",
   "language": "python",
   "name": "python3"
  },
  "language_info": {
   "codemirror_mode": {
    "name": "ipython",
    "version": 3
   },
   "file_extension": ".py",
   "mimetype": "text/x-python",
   "name": "python",
   "nbconvert_exporter": "python",
   "pygments_lexer": "ipython3",
   "version": "3.9.12"
  }
 },
 "nbformat": 4,
 "nbformat_minor": 5
}
