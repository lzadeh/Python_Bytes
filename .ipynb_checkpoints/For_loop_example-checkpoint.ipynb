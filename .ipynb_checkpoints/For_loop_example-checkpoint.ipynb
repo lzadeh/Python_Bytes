{
 "cells": [
  {
   "cell_type": "markdown",
   "id": "4e33e4eb",
   "metadata": {},
   "source": [
    "### Example 1: Printing Characters of a String"
   ]
  },
  {
   "cell_type": "code",
   "execution_count": 1,
   "id": "e21bb2b9",
   "metadata": {},
   "outputs": [
    {
     "name": "stdout",
     "output_type": "stream",
     "text": [
      "H\n",
      "e\n",
      "l\n",
      "l\n",
      "o\n",
      ",\n",
      " \n",
      "P\n",
      "y\n",
      "t\n",
      "h\n",
      "o\n",
      "n\n",
      "!\n"
     ]
    }
   ],
   "source": [
    "text = \"Hello, Python!\"\n",
    "\n",
    "for char in text:\n",
    "    print(char)"
   ]
  },
  {
   "cell_type": "markdown",
   "id": "f5ba6127",
   "metadata": {},
   "source": [
    "### Example 2: Printing Numbers from 1 to 5"
   ]
  },
  {
   "cell_type": "code",
   "execution_count": 5,
   "id": "3ad10de4",
   "metadata": {},
   "outputs": [
    {
     "name": "stdout",
     "output_type": "stream",
     "text": [
      "10\n",
      "13\n",
      "16\n",
      "19\n"
     ]
    }
   ],
   "source": [
    "for num in range(10, 21, 3): # ranage(start, end, step)\n",
    "    print(num)"
   ]
  },
  {
   "cell_type": "markdown",
   "id": "2d9182f8",
   "metadata": {},
   "source": [
    "### Example 3: Iterating Through a List"
   ]
  },
  {
   "cell_type": "code",
   "execution_count": 6,
   "id": "3c4b1a8b",
   "metadata": {},
   "outputs": [
    {
     "name": "stdout",
     "output_type": "stream",
     "text": [
      "I like apple\n",
      "I like banana\n",
      "I like cherry\n"
     ]
    }
   ],
   "source": [
    "fruits = [\"apple\", \"banana\", \"cherry\"]\n",
    "for fruit in fruits:\n",
    "    print(\"I like\", fruit)"
   ]
  },
  {
   "cell_type": "markdown",
   "id": "2397f9e8",
   "metadata": {},
   "source": [
    "### Example 4: Calculating Sum of Numbers in a List"
   ]
  },
  {
   "cell_type": "code",
   "execution_count": 8,
   "id": "a6d22931",
   "metadata": {},
   "outputs": [
    {
     "name": "stdout",
     "output_type": "stream",
     "text": [
      "num: 3, sum: 3\n",
      "num: 7, sum: 10\n",
      "num: 1, sum: 11\n",
      "num: 9, sum: 20\n",
      "num: 4, sum: 24\n",
      "Sum: 24\n"
     ]
    }
   ],
   "source": [
    "numbers = [3, 7, 1, 9, 4]\n",
    "sum = 0\n",
    "for num in numbers:\n",
    "    sum += num\n",
    "    print(f\"num: {num}, sum: {sum}\")\n",
    "print(\"Sum:\", sum)"
   ]
  },
  {
   "cell_type": "markdown",
   "id": "31eb9d52",
   "metadata": {},
   "source": [
    "### Example 5: Creating a Pattern"
   ]
  },
  {
   "cell_type": "code",
   "execution_count": 9,
   "id": "45260330",
   "metadata": {},
   "outputs": [
    {
     "name": "stdout",
     "output_type": "stream",
     "text": [
      "*\n",
      "**\n",
      "***\n",
      "****\n",
      "*****\n"
     ]
    }
   ],
   "source": [
    "for i in range(1, 6):\n",
    "    print('*' * i)"
   ]
  },
  {
   "cell_type": "markdown",
   "id": "7731e475",
   "metadata": {},
   "source": [
    "### Example: Write a code to reverse a string. (Example: input -> \"Python\", output -> \"nohtyP\")"
   ]
  },
  {
   "cell_type": "code",
   "execution_count": 10,
   "id": "b78e4f24",
   "metadata": {},
   "outputs": [
    {
     "name": "stdout",
     "output_type": "stream",
     "text": [
      "Enter a string to reverse:Python\n",
      "char: P, reversed_text: P\n",
      "char: y, reversed_text: yP\n",
      "char: t, reversed_text: tyP\n",
      "char: h, reversed_text: htyP\n",
      "char: o, reversed_text: ohtyP\n",
      "char: n, reversed_text: nohtyP\n",
      "Reversed text: nohtyP\n"
     ]
    }
   ],
   "source": [
    "text = input(\"Enter a string to reverse:\")\n",
    "\n",
    "reversed_text = \"\"\n",
    "\n",
    "for char in text:\n",
    "    reversed_text = char + reversed_text\n",
    "    print(f\"char: {char}, reversed_text: {reversed_text}\")\n",
    "    \n",
    "print(\"Reversed text: \" + reversed_text)"
   ]
  },
  {
   "cell_type": "markdown",
   "id": "c8690336",
   "metadata": {},
   "source": [
    "### Example: Counting Vowels in a string"
   ]
  },
  {
   "cell_type": "code",
   "execution_count": 11,
   "id": "ea0317eb",
   "metadata": {},
   "outputs": [
    {
     "name": "stdout",
     "output_type": "stream",
     "text": [
      "Number of vowels: 3\n"
     ]
    }
   ],
   "source": [
    "text = \"Hello, World!\"\n",
    "vowels = \"AEIOUaeiou\"\n",
    "count = 0\n",
    "\n",
    "for char in text:\n",
    "    if char in vowels:\n",
    "        count += 1\n",
    "\n",
    "print(\"Number of vowels:\", count)"
   ]
  },
  {
   "cell_type": "markdown",
   "id": "2b88f773",
   "metadata": {},
   "source": [
    "### Example 9: Finding Prime Numbers"
   ]
  },
  {
   "cell_type": "code",
   "execution_count": 15,
   "id": "6ec1e2e8",
   "metadata": {},
   "outputs": [
    {
     "name": "stdout",
     "output_type": "stream",
     "text": [
      "2 3 5 7 11 13 17 19 23 29 31 37 41 43 47 53 59 61 67 71 73 79 83 89 97 "
     ]
    }
   ],
   "source": [
    "for num in range(2, 101):\n",
    "    is_prime = True\n",
    "    for i in range(2, int(num ** 0.5) + 1):\n",
    "        if num % i == 0:\n",
    "            is_prime = False\n",
    "            break\n",
    "    if is_prime:\n",
    "        print(num, end=\" \")"
   ]
  },
  {
   "cell_type": "code",
   "execution_count": 14,
   "id": "29d3f283",
   "metadata": {},
   "outputs": [
    {
     "name": "stdout",
     "output_type": "stream",
     "text": [
      "range(2, 4)\n"
     ]
    }
   ],
   "source": [
    "print(range(2, int(10 ** 0.5) + 1))"
   ]
  },
  {
   "cell_type": "markdown",
   "id": "d5bdd1db",
   "metadata": {},
   "source": [
    "### Example 10: Multiplication Table\n",
    "Write a program that takes a number as input and prints its multiplication table using a for loop. The table should go up to 10."
   ]
  },
  {
   "cell_type": "code",
   "execution_count": 17,
   "id": "9f89f150",
   "metadata": {},
   "outputs": [
    {
     "name": "stdout",
     "output_type": "stream",
     "text": [
      "1 x 1 = 1\n",
      "1 x 2 = 2\n",
      "1 x 3 = 3\n",
      "1 x 4 = 4\n",
      "1 x 5 = 5\n",
      "1 x 6 = 6\n",
      "1 x 7 = 7\n",
      "1 x 8 = 8\n",
      "1 x 9 = 9\n",
      "1 x 10 = 10\n",
      "\n",
      "2 x 1 = 2\n",
      "2 x 2 = 4\n",
      "2 x 3 = 6\n",
      "2 x 4 = 8\n",
      "2 x 5 = 10\n",
      "2 x 6 = 12\n",
      "2 x 7 = 14\n",
      "2 x 8 = 16\n",
      "2 x 9 = 18\n",
      "2 x 10 = 20\n",
      "\n",
      "3 x 1 = 3\n",
      "3 x 2 = 6\n",
      "3 x 3 = 9\n",
      "3 x 4 = 12\n",
      "3 x 5 = 15\n",
      "3 x 6 = 18\n",
      "3 x 7 = 21\n",
      "3 x 8 = 24\n",
      "3 x 9 = 27\n",
      "3 x 10 = 30\n",
      "\n",
      "4 x 1 = 4\n",
      "4 x 2 = 8\n",
      "4 x 3 = 12\n",
      "4 x 4 = 16\n",
      "4 x 5 = 20\n",
      "4 x 6 = 24\n",
      "4 x 7 = 28\n",
      "4 x 8 = 32\n",
      "4 x 9 = 36\n",
      "4 x 10 = 40\n",
      "\n",
      "5 x 1 = 5\n",
      "5 x 2 = 10\n",
      "5 x 3 = 15\n",
      "5 x 4 = 20\n",
      "5 x 5 = 25\n",
      "5 x 6 = 30\n",
      "5 x 7 = 35\n",
      "5 x 8 = 40\n",
      "5 x 9 = 45\n",
      "5 x 10 = 50\n",
      "\n",
      "6 x 1 = 6\n",
      "6 x 2 = 12\n",
      "6 x 3 = 18\n",
      "6 x 4 = 24\n",
      "6 x 5 = 30\n",
      "6 x 6 = 36\n",
      "6 x 7 = 42\n",
      "6 x 8 = 48\n",
      "6 x 9 = 54\n",
      "6 x 10 = 60\n",
      "\n",
      "7 x 1 = 7\n",
      "7 x 2 = 14\n",
      "7 x 3 = 21\n",
      "7 x 4 = 28\n",
      "7 x 5 = 35\n",
      "7 x 6 = 42\n",
      "7 x 7 = 49\n",
      "7 x 8 = 56\n",
      "7 x 9 = 63\n",
      "7 x 10 = 70\n",
      "\n",
      "8 x 1 = 8\n",
      "8 x 2 = 16\n",
      "8 x 3 = 24\n",
      "8 x 4 = 32\n",
      "8 x 5 = 40\n",
      "8 x 6 = 48\n",
      "8 x 7 = 56\n",
      "8 x 8 = 64\n",
      "8 x 9 = 72\n",
      "8 x 10 = 80\n",
      "\n",
      "9 x 1 = 9\n",
      "9 x 2 = 18\n",
      "9 x 3 = 27\n",
      "9 x 4 = 36\n",
      "9 x 5 = 45\n",
      "9 x 6 = 54\n",
      "9 x 7 = 63\n",
      "9 x 8 = 72\n",
      "9 x 9 = 81\n",
      "9 x 10 = 90\n",
      "\n",
      "10 x 1 = 10\n",
      "10 x 2 = 20\n",
      "10 x 3 = 30\n",
      "10 x 4 = 40\n",
      "10 x 5 = 50\n",
      "10 x 6 = 60\n",
      "10 x 7 = 70\n",
      "10 x 8 = 80\n",
      "10 x 9 = 90\n",
      "10 x 10 = 100\n",
      "\n"
     ]
    }
   ],
   "source": [
    "for i in range(1, 11):\n",
    "    for j in range(1, 11):\n",
    "        #print(f\"{i * j: <3}\", end=\" \")\n",
    "        print(f\"{i} x {j} = {i * j}\")\n",
    "    print()  # Add an empty line after each row"
   ]
  },
  {
   "cell_type": "markdown",
   "id": "73c45db0",
   "metadata": {},
   "source": [
    "### Exercise 1: Print Even Numbers\n",
    "Write a program that prints all even numbers between 1 and 20 using a for loop."
   ]
  },
  {
   "cell_type": "code",
   "execution_count": 1,
   "id": "a2a5507e",
   "metadata": {},
   "outputs": [
    {
     "name": "stdout",
     "output_type": "stream",
     "text": [
      "2\n",
      "4\n",
      "6\n",
      "8\n",
      "10\n",
      "12\n",
      "14\n",
      "16\n",
      "18\n",
      "20\n"
     ]
    }
   ],
   "source": [
    "# Print even numbers between 1 and 20\n",
    "for number in range(2, 21, 2):\n",
    "    print(number)"
   ]
  },
  {
   "cell_type": "markdown",
   "id": "f5b36559",
   "metadata": {},
   "source": [
    "### Exercise 2: Factorial Calculation\n",
    "Write a program to calculate the factorial of a given number using a for loop."
   ]
  },
  {
   "cell_type": "code",
   "execution_count": 2,
   "id": "92a8fda1",
   "metadata": {},
   "outputs": [
    {
     "name": "stdout",
     "output_type": "stream",
     "text": [
      "Enter a number: 7\n",
      "The factorial of 7 is 5040\n"
     ]
    }
   ],
   "source": [
    "# Input: Get the number from the user\n",
    "num = int(input(\"Enter a number: \"))\n",
    "\n",
    "# Initialize the factorial to 1\n",
    "factorial = 1\n",
    "\n",
    "# Calculate the factorial using a for loop\n",
    "for i in range(1, num + 1):\n",
    "    factorial *= i\n",
    "\n",
    "# Output: Display the factorial\n",
    "print(f\"The factorial of {num} is {factorial}\")"
   ]
  },
  {
   "cell_type": "markdown",
   "id": "9934f9c3",
   "metadata": {},
   "source": [
    "### Exercise 3: Sum of Digits\n",
    "Write a program that takes a positive integer as input and calculates the sum of its digits using a for loop."
   ]
  },
  {
   "cell_type": "code",
   "execution_count": 3,
   "id": "0b1f1981",
   "metadata": {},
   "outputs": [
    {
     "name": "stdout",
     "output_type": "stream",
     "text": [
      "Enter a positive integer: 542\n",
      "The sum of digits in 542 is: 11\n"
     ]
    }
   ],
   "source": [
    "# Get a positive integer from the user\n",
    "num = int(input(\"Enter a positive integer: \"))\n",
    "\n",
    "# Check if the input is positive\n",
    "if num <= 0:\n",
    "    print(\"Please enter a positive integer.\")\n",
    "else:\n",
    "    # Initialize a variable to store the sum of digits\n",
    "    digit_sum = 0\n",
    "\n",
    "    # Convert the integer to a string to iterate through its digits\n",
    "    num_str = str(num)\n",
    "\n",
    "    # Iterate through each character (digit) in the string\n",
    "    for digit in num_str:\n",
    "        # Convert the digit back to an integer and add it to the sum\n",
    "        digit_sum += int(digit)\n",
    "\n",
    "    # Print the sum of digits\n",
    "    print(f\"The sum of digits in {num} is: {digit_sum}\")"
   ]
  },
  {
   "cell_type": "code",
   "execution_count": null,
   "id": "3efd906b",
   "metadata": {},
   "outputs": [],
   "source": []
  },
  {
   "cell_type": "code",
   "execution_count": null,
   "id": "e63051ff",
   "metadata": {},
   "outputs": [],
   "source": []
  }
 ],
 "metadata": {
  "kernelspec": {
   "display_name": "Python 3 (ipykernel)",
   "language": "python",
   "name": "python3"
  },
  "language_info": {
   "codemirror_mode": {
    "name": "ipython",
    "version": 3
   },
   "file_extension": ".py",
   "mimetype": "text/x-python",
   "name": "python",
   "nbconvert_exporter": "python",
   "pygments_lexer": "ipython3",
   "version": "3.9.12"
  }
 },
 "nbformat": 4,
 "nbformat_minor": 5
}
