{
 "cells": [
  {
   "cell_type": "markdown",
   "metadata": {},
   "source": [
    "### Exercise 1: Age Category\n",
    "Write a program that asks the user for their age and then prints a message based on their age:\n",
    "\n",
    "- If the age is less than 18, print \"You're a minor.\"\n",
    "- If the age is between 18 and 65 (inclusive), print \"You're an adult.\"\n",
    "- If the age is 65 or older, print \"You're a senior citizen.\"\n"
   ]
  },
  {
   "cell_type": "code",
   "execution_count": 1,
   "metadata": {},
   "outputs": [
    {
     "name": "stdout",
     "output_type": "stream",
     "text": [
      "Please enter your age: 15\n",
      "You're a minor.\n"
     ]
    }
   ],
   "source": [
    "# Get the user's age as input\n",
    "age = int(input(\"Please enter your age: \"))\n",
    "\n",
    "# Check the age category and print the corresponding message\n",
    "if age < 18:\n",
    "    print(\"You're a minor.\")\n",
    "elif 18 <= age <= 65:\n",
    "    print(\"You're an adult.\")\n",
    "else:\n",
    "    print(\"You're a senior citizen.\")"
   ]
  },
  {
   "cell_type": "markdown",
   "metadata": {},
   "source": [
    "### Exercise 2: Grading System\n",
    "Create a program that prompts the user for their exam score and then prints their grade according to the following scale:\n",
    "- 90 or above: A\n",
    "- 80-89: B\n",
    "- 70-79: C\n",
    "- 60-69: D\n",
    "- Below 60: F\n"
   ]
  },
  {
   "cell_type": "code",
   "execution_count": 2,
   "metadata": {},
   "outputs": [
    {
     "name": "stdout",
     "output_type": "stream",
     "text": [
      "Enter your exam score: 76\n",
      "Your grade is: C\n"
     ]
    }
   ],
   "source": [
    "# Prompt the user for their exam score\n",
    "try:\n",
    "    score = float(input(\"Enter your exam score: \"))\n",
    "except ValueError:\n",
    "    print(\"Invalid input. Please enter a numeric score.\")\n",
    "    exit()\n",
    "\n",
    "# Determine the grade based on the score\n",
    "if score >= 90:\n",
    "    grade = \"A\"\n",
    "elif score >= 80:\n",
    "    grade = \"B\"\n",
    "elif score >= 70:\n",
    "    grade = \"C\"\n",
    "elif score >= 60:\n",
    "    grade = \"D\"\n",
    "else:\n",
    "    grade = \"F\"\n",
    "\n",
    "# Print the grade\n",
    "print(f\"Your grade is: {grade}\")"
   ]
  },
  {
   "cell_type": "markdown",
   "metadata": {},
   "source": [
    "### Exercise 3: Leap Year Checker\n",
    "Write a program that asks the user for a year and determines whether it's a leap year. A leap year is divisible by 4, but not by 100 unless it's also divisible by 400. Print \"Leap year!\" or \"Not a leap year!\" accordingly.\n"
   ]
  },
  {
   "cell_type": "code",
   "execution_count": 3,
   "metadata": {},
   "outputs": [
    {
     "name": "stdout",
     "output_type": "stream",
     "text": [
      "Enter a year: 2020\n",
      "Leap year!\n"
     ]
    }
   ],
   "source": [
    "# Ask the user for input\n",
    "year = int(input(\"Enter a year: \"))\n",
    "\n",
    "# Check if it's a leap year\n",
    "if (year % 4 == 0 and year % 100 != 0) or (year % 400 == 0):\n",
    "    print(\"Leap year!\")\n",
    "else:\n",
    "    print(\"Not a leap year!\")"
   ]
  },
  {
   "cell_type": "markdown",
   "metadata": {},
   "source": [
    "### Exercise 4: Odd or Even\n",
    "Create a program that takes an integer input from the user and prints whether it's an odd or even number."
   ]
  },
  {
   "cell_type": "code",
   "execution_count": 4,
   "metadata": {},
   "outputs": [
    {
     "name": "stdout",
     "output_type": "stream",
     "text": [
      "Enter an integer: 25\n",
      "25 is an odd number.\n"
     ]
    }
   ],
   "source": [
    "# Get user input as an integer\n",
    "user_input = input(\"Enter an integer: \")\n",
    "\n",
    "# Convert the input to an integer (if possible)\n",
    "number = int(user_input)\n",
    "\n",
    "# Check if the number is even or odd\n",
    "if number % 2 == 0:\n",
    "    print(f\"{number} is an even number.\")\n",
    "else:\n",
    "    print(f\"{number} is an odd number.\")\n"
   ]
  },
  {
   "cell_type": "markdown",
   "metadata": {},
   "source": [
    "### Exercise 5: Ticket Pricing\n",
    "A theater has different ticket prices based on age. Write a program to get age as an input and print the ticket price:\n",
    "\n",
    "- Children (age 0-12): \\\\$5\n",
    "- Teens (age 13-17): \\\\$10 \n",
    "- Adults (age 18-64): \\\\$15 \n",
    "- Seniors (age 65 and above): \\\\$12"
   ]
  },
  {
   "cell_type": "code",
   "execution_count": 5,
   "metadata": {},
   "outputs": [
    {
     "name": "stdout",
     "output_type": "stream",
     "text": [
      "Enter your age: 53\n",
      "Your ticket price is $15\n"
     ]
    }
   ],
   "source": [
    "# Get the age from the user\n",
    "age = int(input(\"Enter your age: \"))\n",
    "\n",
    "# Determine the ticket price based on age\n",
    "if age >= 0 and age <= 12:\n",
    "    ticket_price = 5\n",
    "elif age >= 13 and age <= 17:\n",
    "    ticket_price = 10\n",
    "elif age >= 18 and age <= 64:\n",
    "    ticket_price = 15\n",
    "else:\n",
    "    ticket_price = 12  # Seniors (age 65 and above)\n",
    "\n",
    "# Print the ticket price\n",
    "print(f\"Your ticket price is ${ticket_price}\")"
   ]
  },
  {
   "cell_type": "code",
   "execution_count": null,
   "metadata": {},
   "outputs": [],
   "source": []
  }
 ],
 "metadata": {
  "kernelspec": {
   "display_name": "Python 3 (ipykernel)",
   "language": "python",
   "name": "python3"
  },
  "language_info": {
   "codemirror_mode": {
    "name": "ipython",
    "version": 3
   },
   "file_extension": ".py",
   "mimetype": "text/x-python",
   "name": "python",
   "nbconvert_exporter": "python",
   "pygments_lexer": "ipython3",
   "version": "3.9.12"
  }
 },
 "nbformat": 4,
 "nbformat_minor": 2
}
