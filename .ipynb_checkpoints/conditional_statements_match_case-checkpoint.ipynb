{
 "cells": [
  {
   "cell_type": "code",
   "execution_count": 1,
   "id": "79036c92",
   "metadata": {},
   "outputs": [
    {
     "ename": "SyntaxError",
     "evalue": "invalid syntax (715605193.py, line 10)",
     "output_type": "error",
     "traceback": [
      "\u001b[1;36m  Input \u001b[1;32mIn [1]\u001b[1;36m\u001b[0m\n\u001b[1;33m    match operation:\u001b[0m\n\u001b[1;37m          ^\u001b[0m\n\u001b[1;31mSyntaxError\u001b[0m\u001b[1;31m:\u001b[0m invalid syntax\n"
     ]
    }
   ],
   "source": [
    "# ask user to enter an operation with two numbers\n",
    "operation = input(\"Enter arithmetic operation (+, -, *,  /):\")\n",
    "num1 = float(input(\"Enter the first number:\"))\n",
    "num2 = float(input(\"Enter the second number:\"))\n",
    "\n",
    "# keep the result of operation\n",
    "result = 0\n",
    "\n",
    "\n",
    "match operation:\n",
    "    case \"+\":\n",
    "        result = num1 + num2\n",
    "    case \"-\":\n",
    "        result = num1 - num2\n",
    "    case \"*\":\n",
    "        result = num1 * num2\n",
    "    case \"/\":\n",
    "        if num2 != 0:\n",
    "            result = num1 / num2\n",
    "        else:\n",
    "            print(\"Cannot divide by zero!\")\n",
    "    case _:\n",
    "        print(\"Invalid operation entered.\")\n",
    "        \n",
    "print(\"result:\", result)\n",
    "        "
   ]
  },
  {
   "cell_type": "code",
   "execution_count": 2,
   "id": "ed91c929",
   "metadata": {},
   "outputs": [
    {
     "name": "stdout",
     "output_type": "stream",
     "text": [
      "Python 3.9.12\n"
     ]
    }
   ],
   "source": [
    "print(\"Welcome to Our Coffee Shop!\")\n",
    "size = input(\"Choose size (small, medium, large): \")\n",
    "type = input(\"Choose coffee type (espresso, latte, cappuccino): \")\n",
    "sugar = input(\"Add sugar? (yes/no): \")\n",
    "milk = input(\"Add milk? (yes/no): \")\n",
    "\n",
    "match type:\n",
    "    case \"espresso\":\n",
    "        base_price = 2.5\n",
    "    case \"latte\":\n",
    "        base_price = 3.0\n",
    "    case \"cappuccino\":\n",
    "        base_price = 3.5\n",
    "    case _:\n",
    "        print(\"Invalid coffee type entered.\")\n",
    "        return\n",
    "\n",
    "if size == \"medium\":\n",
    "    base_price *= 1.2\n",
    "elif size == \"large\":\n",
    "    base_price *= 1.5\n",
    "\n",
    "if sugar == \"yes\":\n",
    "    base_price += 0.5\n",
    "if milk == \"yes\":\n",
    "    base_price += 0.75\n",
    "\n",
    "print(\"Your order summary:\")\n",
    "print(f\"- Coffee: {type.capitalize()}\")\n",
    "print(f\"- Size: {size.capitalize()}\")\n",
    "print(f\"- Sugar: {sugar.capitalize()}\")\n",
    "print(f\"- Milk: {milk.capitalize()}\")\n",
    "print(f\"- Total Price: ${base_price:.2f}\")"
   ]
  },
  {
   "cell_type": "code",
   "execution_count": null,
   "id": "1c16d922",
   "metadata": {},
   "outputs": [],
   "source": []
  }
 ],
 "metadata": {
  "kernelspec": {
   "display_name": "Python 3 (ipykernel)",
   "language": "python",
   "name": "python3"
  },
  "language_info": {
   "codemirror_mode": {
    "name": "ipython",
    "version": 3
   },
   "file_extension": ".py",
   "mimetype": "text/x-python",
   "name": "python",
   "nbconvert_exporter": "python",
   "pygments_lexer": "ipython3",
   "version": "3.9.12"
  }
 },
 "nbformat": 4,
 "nbformat_minor": 5
}
