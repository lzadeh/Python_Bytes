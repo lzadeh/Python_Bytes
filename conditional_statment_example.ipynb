{
 "cells": [
  {
   "cell_type": "code",
   "execution_count": 2,
   "id": "45a2cd2f",
   "metadata": {},
   "outputs": [
    {
     "name": "stdout",
     "output_type": "stream",
     "text": [
      "Enter an age:16\n",
      "Ticket price is: $10\n"
     ]
    }
   ],
   "source": [
    "# Ask user to enter the age\n",
    "age = int(input(\"Enter an age:\"))\n",
    "\n",
    "price = 0\n",
    "\n",
    "# check the age \n",
    "if age <=12: \n",
    "    price = 5\n",
    "elif age <=17:\n",
    "    price = 10\n",
    "elif age <= 64:\n",
    "    price = 15\n",
    "else:\n",
    "    price = 12\n",
    "\n",
    "# print the ticket price\n",
    "print(\"Ticket price is: $\" + str(price))"
   ]
  },
  {
   "cell_type": "code",
   "execution_count": null,
   "id": "3359d9f5",
   "metadata": {},
   "outputs": [],
   "source": []
  }
 ],
 "metadata": {
  "kernelspec": {
   "display_name": "Python 3 (ipykernel)",
   "language": "python",
   "name": "python3"
  },
  "language_info": {
   "codemirror_mode": {
    "name": "ipython",
    "version": 3
   },
   "file_extension": ".py",
   "mimetype": "text/x-python",
   "name": "python",
   "nbconvert_exporter": "python",
   "pygments_lexer": "ipython3",
   "version": "3.9.12"
  }
 },
 "nbformat": 4,
 "nbformat_minor": 5
}
